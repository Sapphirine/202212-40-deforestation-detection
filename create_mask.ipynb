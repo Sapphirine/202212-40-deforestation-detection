{
 "cells": [
  {
   "cell_type": "code",
   "execution_count": 2,
   "id": "38ffa33b",
   "metadata": {},
   "outputs": [],
   "source": [
    "from qgis.core import *"
   ]
  },
  {
   "cell_type": "code",
   "execution_count": 32,
   "id": "4800ffcc",
   "metadata": {},
   "outputs": [],
   "source": [
    "from PyQt5.QtCore import QVariant"
   ]
  },
  {
   "cell_type": "code",
   "execution_count": 60,
   "id": "d47f024c",
   "metadata": {},
   "outputs": [
    {
     "data": {
      "text/plain": [
       "True"
      ]
     },
     "execution_count": 60,
     "metadata": {},
     "output_type": "execute_result"
    }
   ],
   "source": [
    "from qgis.analysis import QgsNativeAlgorithms\n",
    "import processing\n",
    "from processing.core.Processing import Processing\n",
    "Processing.initialize()\n",
    "QgsApplication.processingRegistry().addProvider(QgsNativeAlgorithms())"
   ]
  },
  {
   "cell_type": "code",
   "execution_count": 3,
   "id": "2eef1e43",
   "metadata": {},
   "outputs": [],
   "source": [
    "QgsApplication.setPrefixPath('C:/PROGRA~1/QGIS32~1.1/apps/qgis', True)"
   ]
  },
  {
   "cell_type": "code",
   "execution_count": 4,
   "id": "24293898",
   "metadata": {},
   "outputs": [],
   "source": [
    "qgs = QgsApplication([], False)"
   ]
  },
  {
   "cell_type": "code",
   "execution_count": 6,
   "id": "7ffed40c",
   "metadata": {},
   "outputs": [],
   "source": [
    "qgs.initQgis()"
   ]
  },
  {
   "cell_type": "code",
   "execution_count": 8,
   "id": "ea0c4fb1",
   "metadata": {},
   "outputs": [],
   "source": [
    "scenePath = \"satellite images\\LC08_L1TP_227063_20180721_20180731_01_T1_2018-07-21\\LC08_L1TP_227063_20180721_20180731_01_T1_2018-07-21_B1.TIF\""
   ]
  },
  {
   "cell_type": "code",
   "execution_count": 14,
   "id": "a5d7fc34",
   "metadata": {},
   "outputs": [],
   "source": [
    "rlayer = qgis.core.QgsRasterLayer(scenePath, \"my raster\",\"gdal\")"
   ]
  },
  {
   "cell_type": "code",
   "execution_count": 22,
   "id": "edb19035",
   "metadata": {},
   "outputs": [
    {
     "data": {
      "text/plain": [
       "<QgsCoordinateReferenceSystem: EPSG:32621>"
      ]
     },
     "execution_count": 22,
     "metadata": {},
     "output_type": "execute_result"
    }
   ],
   "source": [
    "rlayer.crs()"
   ]
  },
  {
   "cell_type": "code",
   "execution_count": 18,
   "id": "57c2172d",
   "metadata": {},
   "outputs": [],
   "source": [
    "vectorPath = \"2017_deforestationA.shp\""
   ]
  },
  {
   "cell_type": "code",
   "execution_count": 68,
   "id": "715def7f",
   "metadata": {},
   "outputs": [],
   "source": [
    "vector = QgsVectorLayer(vectorPath, \"my vector\", \"ogr\")"
   ]
  },
  {
   "cell_type": "code",
   "execution_count": 69,
   "id": "d78638b7",
   "metadata": {},
   "outputs": [
    {
     "data": {
      "text/plain": [
       "True"
      ]
     },
     "execution_count": 69,
     "metadata": {},
     "output_type": "execute_result"
    }
   ],
   "source": [
    "vector.isValid()"
   ]
  },
  {
   "cell_type": "code",
   "execution_count": 35,
   "id": "7f4eca96",
   "metadata": {},
   "outputs": [],
   "source": [
    "longitude = [-55.70030,-53.64707,-53.63778,-55.69669]\n",
    "latitude = [-3.29143, -3.28662, -5.38907, -5.39697]"
   ]
  },
  {
   "cell_type": "code",
   "execution_count": 33,
   "id": "1cdeaa1b",
   "metadata": {},
   "outputs": [],
   "source": [
    "layer = QgsVectorLayer('Point?crs=epsg:32621', 'MyPoint' ,'memory')\n",
    "fields = QgsFields()\n",
    "fields.append(QgsField('value', QVariant.Double))\n",
    "pr = layer.dataProvider()\n",
    "pr.addAttributes(fields)\n",
    "layer.updateFields()"
   ]
  },
  {
   "cell_type": "code",
   "execution_count": 38,
   "id": "dd1fbdff",
   "metadata": {},
   "outputs": [],
   "source": [
    "for i in range(0, len(latitude)):\n",
    "    pt = QgsFeature()\n",
    "    point1 = QgsPointXY(longitude[i],latitude[i])\n",
    "    pt.setGeometry(QgsGeometry.fromPointXY(point1))\n",
    "    pr.addFeatures([pt])\n",
    "    layer.updateExtents()"
   ]
  },
  {
   "cell_type": "code",
   "execution_count": 63,
   "id": "7d03f994",
   "metadata": {},
   "outputs": [
    {
     "data": {
      "text/plain": [
       "True"
      ]
     },
     "execution_count": 63,
     "metadata": {},
     "output_type": "execute_result"
    }
   ],
   "source": [
    "layer.isValid()"
   ]
  },
  {
   "cell_type": "code",
   "execution_count": 72,
   "id": "1ef99c47",
   "metadata": {},
   "outputs": [
    {
     "data": {
      "text/plain": [
       "<QgsMapLayer: 'MyPoint' (memory)>"
      ]
     },
     "execution_count": 72,
     "metadata": {},
     "output_type": "execute_result"
    }
   ],
   "source": [
    "QgsProject.instance().addMapLayer(layer)"
   ]
  },
  {
   "cell_type": "code",
   "execution_count": 70,
   "id": "aee75e5a",
   "metadata": {
    "scrolled": true
   },
   "outputs": [
    {
     "data": {
      "text/plain": [
       "{'OUTPUT': 'output_file.shp'}"
      ]
     },
     "execution_count": 70,
     "metadata": {},
     "output_type": "execute_result"
    }
   ],
   "source": [
    "processing.run(\"native:clip\",{'INPUT':vector,'OVERLAY':layer,'OUTPUT':\"output_file.shp\"})"
   ]
  },
  {
   "cell_type": "code",
   "execution_count": 79,
   "id": "f7733190",
   "metadata": {},
   "outputs": [
    {
     "data": {
      "text/plain": [
       "{'OUTPUT': 'C:/Users/mikel/OneDrive/Columbia/Big Data/Project/satellite images/2017_qgis.tif'}"
      ]
     },
     "execution_count": 79,
     "metadata": {},
     "output_type": "execute_result"
    }
   ],
   "source": [
    "processing.run(\"gdal:rasterize\", {'INPUT':'C:\\\\Users\\\\mikel\\\\OneDrive\\\\Columbia\\\\Big Data\\\\Project\\\\2017_deforestationA.shp','FIELD':'','BURN':1,'USE_Z':False,'UNITS':0,'WIDTH':7611,'HEIGHT':7761,'EXTENT':'644085.000000000,872715.000000000,-596715.000000000,-363885.000000000 [EPSG:32621]','NODATA':None,'OPTIONS':'','DATA_TYPE':5,'INIT':None,'INVERT':False,'EXTRA':'','OUTPUT':'C:/Users/mikel/OneDrive/Columbia/Big Data/Project/satellite images/2017_qgis.tif'})"
   ]
  },
  {
   "cell_type": "code",
   "execution_count": null,
   "id": "9f9cbabe",
   "metadata": {},
   "outputs": [],
   "source": [
    "qgs.exitQgis()"
   ]
  }
 ],
 "metadata": {
  "kernelspec": {
   "display_name": "bigdata",
   "language": "python",
   "name": "bigdata"
  },
  "language_info": {
   "codemirror_mode": {
    "name": "ipython",
    "version": 3
   },
   "file_extension": ".py",
   "mimetype": "text/x-python",
   "name": "python",
   "nbconvert_exporter": "python",
   "pygments_lexer": "ipython3",
   "version": "3.8.13"
  }
 },
 "nbformat": 4,
 "nbformat_minor": 5
}
